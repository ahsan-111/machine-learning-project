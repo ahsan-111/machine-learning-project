{
 "cells": [
  {
   "cell_type": "code",
   "execution_count": 1,
   "id": "7d797b37",
   "metadata": {},
   "outputs": [],
   "source": [
    "import matplotlib.pyplot as plt\n",
    "import pandas as pd\n",
    "import pylab as pl\n",
    "import numpy as np\n",
    "%matplotlib inline\n",
    "import seaborn as sns"
   ]
  },
  {
   "cell_type": "code",
   "execution_count": 28,
   "id": "1b69c72c",
   "metadata": {},
   "outputs": [],
   "source": [
    "file = \"https://cf-courses-data.s3.us.cloud-object-storage.appdomain.cloud/IBMDeveloperSkillsNetwork-ML0101EN-SkillsNetwork/labs/FinalModule_Coursera/data/loan_train.csv\"\n"
   ]
  },
  {
   "cell_type": "code",
   "execution_count": 29,
   "id": "4905a38c",
   "metadata": {},
   "outputs": [],
   "source": [
    "df = pd.read_csv(file)"
   ]
  },
  {
   "cell_type": "code",
   "execution_count": 30,
   "id": "b0566ebd",
   "metadata": {},
   "outputs": [
    {
     "data": {
      "text/html": [
       "<div>\n",
       "<style scoped>\n",
       "    .dataframe tbody tr th:only-of-type {\n",
       "        vertical-align: middle;\n",
       "    }\n",
       "\n",
       "    .dataframe tbody tr th {\n",
       "        vertical-align: top;\n",
       "    }\n",
       "\n",
       "    .dataframe thead th {\n",
       "        text-align: right;\n",
       "    }\n",
       "</style>\n",
       "<table border=\"1\" class=\"dataframe\">\n",
       "  <thead>\n",
       "    <tr style=\"text-align: right;\">\n",
       "      <th></th>\n",
       "      <th>Unnamed: 0.1</th>\n",
       "      <th>Unnamed: 0</th>\n",
       "      <th>loan_status</th>\n",
       "      <th>Principal</th>\n",
       "      <th>terms</th>\n",
       "      <th>effective_date</th>\n",
       "      <th>due_date</th>\n",
       "      <th>age</th>\n",
       "      <th>education</th>\n",
       "      <th>Gender</th>\n",
       "    </tr>\n",
       "  </thead>\n",
       "  <tbody>\n",
       "    <tr>\n",
       "      <th>0</th>\n",
       "      <td>0</td>\n",
       "      <td>0</td>\n",
       "      <td>PAIDOFF</td>\n",
       "      <td>1000</td>\n",
       "      <td>30</td>\n",
       "      <td>9/8/2016</td>\n",
       "      <td>10/7/2016</td>\n",
       "      <td>45</td>\n",
       "      <td>High School or Below</td>\n",
       "      <td>male</td>\n",
       "    </tr>\n",
       "    <tr>\n",
       "      <th>1</th>\n",
       "      <td>2</td>\n",
       "      <td>2</td>\n",
       "      <td>PAIDOFF</td>\n",
       "      <td>1000</td>\n",
       "      <td>30</td>\n",
       "      <td>9/8/2016</td>\n",
       "      <td>10/7/2016</td>\n",
       "      <td>33</td>\n",
       "      <td>Bechalor</td>\n",
       "      <td>female</td>\n",
       "    </tr>\n",
       "    <tr>\n",
       "      <th>2</th>\n",
       "      <td>3</td>\n",
       "      <td>3</td>\n",
       "      <td>PAIDOFF</td>\n",
       "      <td>1000</td>\n",
       "      <td>15</td>\n",
       "      <td>9/8/2016</td>\n",
       "      <td>9/22/2016</td>\n",
       "      <td>27</td>\n",
       "      <td>college</td>\n",
       "      <td>male</td>\n",
       "    </tr>\n",
       "    <tr>\n",
       "      <th>3</th>\n",
       "      <td>4</td>\n",
       "      <td>4</td>\n",
       "      <td>PAIDOFF</td>\n",
       "      <td>1000</td>\n",
       "      <td>30</td>\n",
       "      <td>9/9/2016</td>\n",
       "      <td>10/8/2016</td>\n",
       "      <td>28</td>\n",
       "      <td>college</td>\n",
       "      <td>female</td>\n",
       "    </tr>\n",
       "    <tr>\n",
       "      <th>4</th>\n",
       "      <td>6</td>\n",
       "      <td>6</td>\n",
       "      <td>PAIDOFF</td>\n",
       "      <td>1000</td>\n",
       "      <td>30</td>\n",
       "      <td>9/9/2016</td>\n",
       "      <td>10/8/2016</td>\n",
       "      <td>29</td>\n",
       "      <td>college</td>\n",
       "      <td>male</td>\n",
       "    </tr>\n",
       "  </tbody>\n",
       "</table>\n",
       "</div>"
      ],
      "text/plain": [
       "   Unnamed: 0.1  Unnamed: 0 loan_status  Principal  terms effective_date  \\\n",
       "0             0           0     PAIDOFF       1000     30       9/8/2016   \n",
       "1             2           2     PAIDOFF       1000     30       9/8/2016   \n",
       "2             3           3     PAIDOFF       1000     15       9/8/2016   \n",
       "3             4           4     PAIDOFF       1000     30       9/9/2016   \n",
       "4             6           6     PAIDOFF       1000     30       9/9/2016   \n",
       "\n",
       "    due_date  age             education  Gender  \n",
       "0  10/7/2016   45  High School or Below    male  \n",
       "1  10/7/2016   33              Bechalor  female  \n",
       "2  9/22/2016   27               college    male  \n",
       "3  10/8/2016   28               college  female  \n",
       "4  10/8/2016   29               college    male  "
      ]
     },
     "execution_count": 30,
     "metadata": {},
     "output_type": "execute_result"
    }
   ],
   "source": [
    "df.head()"
   ]
  },
  {
   "cell_type": "code",
   "execution_count": 31,
   "id": "863434d6",
   "metadata": {},
   "outputs": [
    {
     "data": {
      "text/plain": [
       "High School or Below    151\n",
       "college                 149\n",
       "Bechalor                 44\n",
       "Master or Above           2\n",
       "Name: education, dtype: int64"
      ]
     },
     "execution_count": 31,
     "metadata": {},
     "output_type": "execute_result"
    }
   ],
   "source": [
    "a = df[\"education\"].value_counts()\n",
    "a\n"
   ]
  },
  {
   "cell_type": "code",
   "execution_count": 36,
   "id": "e436cabf",
   "metadata": {},
   "outputs": [
    {
     "data": {
      "text/plain": [
       "array([[1000, 30, 45, 'High School or Below', 'male'],\n",
       "       [1000, 30, 33, 'Bechalor', 'female'],\n",
       "       [1000, 15, 27, 'college', 'male'],\n",
       "       [1000, 30, 28, 'college', 'female'],\n",
       "       [1000, 30, 29, 'college', 'male']], dtype=object)"
      ]
     },
     "execution_count": 36,
     "metadata": {},
     "output_type": "execute_result"
    }
   ],
   "source": [
    "X = df[[\"Principal\",\"terms\",\"age\",\"education\",\"Gender\"]].values\n",
    "X[0:5]"
   ]
  },
  {
   "cell_type": "markdown",
   "id": "5e7ed7b1",
   "metadata": {},
   "source": [
    "**now e will make the dummy values**"
   ]
  },
  {
   "cell_type": "code",
   "execution_count": 37,
   "id": "e7ea535c",
   "metadata": {},
   "outputs": [],
   "source": [
    "from sklearn import preprocessing\n",
    "eductaion = preprocessing.LabelEncoder()\n",
    "eductaion.fit(['High School or Below','college','Bechalor','Master or Above'])\n",
    "X[:,3] = eductaion.transform(X[:,3]) \n",
    "gender = preprocessing.LabelEncoder()\n",
    "gender.fit([ 'male', 'female'])\n",
    "X[:,4] = gender.transform(X[:,4])\n",
    "\n",
    "\n"
   ]
  },
  {
   "cell_type": "code",
   "execution_count": 38,
   "id": "992d67a4",
   "metadata": {},
   "outputs": [
    {
     "data": {
      "text/plain": [
       "array([[1000, 30, 45, 1, 1],\n",
       "       [1000, 30, 33, 0, 0],\n",
       "       [1000, 15, 27, 3, 1],\n",
       "       [1000, 30, 28, 3, 0],\n",
       "       [1000, 30, 29, 3, 1]], dtype=object)"
      ]
     },
     "execution_count": 38,
     "metadata": {},
     "output_type": "execute_result"
    }
   ],
   "source": [
    "X[0:5]"
   ]
  },
  {
   "cell_type": "code",
   "execution_count": 40,
   "id": "1e01063c",
   "metadata": {},
   "outputs": [],
   "source": [
    "y = df[\"loan_status\"]"
   ]
  },
  {
   "cell_type": "code",
   "execution_count": 42,
   "id": "c12e2a47",
   "metadata": {},
   "outputs": [
    {
     "data": {
      "text/plain": [
       "array(['PAIDOFF', 'PAIDOFF', 'PAIDOFF', 'PAIDOFF', 'PAIDOFF'],\n",
       "      dtype=object)"
      ]
     },
     "execution_count": 42,
     "metadata": {},
     "output_type": "execute_result"
    }
   ],
   "source": [
    "y[0:5].values"
   ]
  },
  {
   "cell_type": "markdown",
   "id": "3188f445",
   "metadata": {},
   "source": [
    "**now normalize the data set**"
   ]
  },
  {
   "cell_type": "code",
   "execution_count": 43,
   "id": "4fb105b9",
   "metadata": {},
   "outputs": [],
   "source": [
    "from sklearn import preprocessing\n"
   ]
  },
  {
   "cell_type": "code",
   "execution_count": 44,
   "id": "3c680ad4",
   "metadata": {},
   "outputs": [],
   "source": [
    "X = preprocessing.StandardScaler().fit(X).transform(X.astype(float))\n"
   ]
  },
  {
   "cell_type": "code",
   "execution_count": 45,
   "id": "99f3220a",
   "metadata": {},
   "outputs": [
    {
     "data": {
      "text/plain": [
       "array([[ 0.51578458,  0.92071769,  2.33152555, -0.64691859,  0.42056004],\n",
       "       [ 0.51578458,  0.92071769,  0.34170148, -1.5212695 , -2.37778177],\n",
       "       [ 0.51578458, -0.95911111, -0.65321055,  1.10178323,  0.42056004],\n",
       "       [ 0.51578458,  0.92071769, -0.48739188,  1.10178323, -2.37778177],\n",
       "       [ 0.51578458,  0.92071769, -0.3215732 ,  1.10178323,  0.42056004]])"
      ]
     },
     "execution_count": 45,
     "metadata": {},
     "output_type": "execute_result"
    }
   ],
   "source": [
    "X[0:5]"
   ]
  },
  {
   "cell_type": "markdown",
   "id": "0906392e",
   "metadata": {},
   "source": [
    "**now splitting the data**"
   ]
  },
  {
   "cell_type": "code",
   "execution_count": 46,
   "id": "44492540",
   "metadata": {},
   "outputs": [],
   "source": [
    "from sklearn.model_selection import train_test_split"
   ]
  },
  {
   "cell_type": "code",
   "execution_count": 47,
   "id": "7e5877f6",
   "metadata": {},
   "outputs": [],
   "source": [
    "X_train,x_test,y_train,y_test = train_test_split(X,y,test_size = 0.2,random_state = 4)"
   ]
  },
  {
   "cell_type": "code",
   "execution_count": 48,
   "id": "19c467b2",
   "metadata": {},
   "outputs": [
    {
     "data": {
      "text/plain": [
       "((276, 5), (70, 5), (276,), (70,))"
      ]
     },
     "execution_count": 48,
     "metadata": {},
     "output_type": "execute_result"
    }
   ],
   "source": [
    "X_train.shape,x_test.shape,y_train.shape,y_test.shape"
   ]
  },
  {
   "cell_type": "markdown",
   "id": "5a2d24c5",
   "metadata": {},
   "source": [
    "# KNN Neighbours"
   ]
  },
  {
   "cell_type": "code",
   "execution_count": 93,
   "id": "950ad027",
   "metadata": {},
   "outputs": [],
   "source": [
    "from sklearn.neighbors import KNeighborsClassifier"
   ]
  },
  {
   "cell_type": "code",
   "execution_count": 94,
   "id": "27215fb0",
   "metadata": {},
   "outputs": [],
   "source": [
    "k = 4\n",
    "neigh = KNeighborsClassifier(n_neighbors=k).fit(X_train,y_train)"
   ]
  },
  {
   "cell_type": "code",
   "execution_count": 95,
   "id": "e41d6a27",
   "metadata": {},
   "outputs": [
    {
     "data": {
      "text/plain": [
       "KNeighborsClassifier(n_neighbors=4)"
      ]
     },
     "execution_count": 95,
     "metadata": {},
     "output_type": "execute_result"
    }
   ],
   "source": [
    "neigh"
   ]
  },
  {
   "cell_type": "code",
   "execution_count": 99,
   "id": "fd69c468",
   "metadata": {},
   "outputs": [],
   "source": [
    "yknn = neigh.predict(x_test)"
   ]
  },
  {
   "cell_type": "code",
   "execution_count": 100,
   "id": "c1e948ca",
   "metadata": {},
   "outputs": [
    {
     "data": {
      "text/plain": [
       "array(['PAIDOFF', 'COLLECTION', 'PAIDOFF', 'COLLECTION', 'PAIDOFF'],\n",
       "      dtype=object)"
      ]
     },
     "execution_count": 100,
     "metadata": {},
     "output_type": "execute_result"
    }
   ],
   "source": [
    "yknn[0:5]"
   ]
  },
  {
   "cell_type": "code",
   "execution_count": 102,
   "id": "2d0d7912",
   "metadata": {},
   "outputs": [
    {
     "data": {
      "text/plain": [
       "63     PAIDOFF\n",
       "34     PAIDOFF\n",
       "186    PAIDOFF\n",
       "146    PAIDOFF\n",
       "130    PAIDOFF\n",
       "Name: loan_status, dtype: object"
      ]
     },
     "execution_count": 102,
     "metadata": {},
     "output_type": "execute_result"
    }
   ],
   "source": [
    "y_test[0:5]"
   ]
  },
  {
   "cell_type": "markdown",
   "id": "d16f7da7",
   "metadata": {},
   "source": [
    "**now check the accuracy of the model**"
   ]
  },
  {
   "cell_type": "code",
   "execution_count": 103,
   "id": "f68f2679",
   "metadata": {},
   "outputs": [],
   "source": [
    "from sklearn.metrics import classification_report, confusion_matrix\n",
    "import itertools"
   ]
  },
  {
   "cell_type": "code",
   "execution_count": 104,
   "id": "9acf56d7",
   "metadata": {},
   "outputs": [
    {
     "name": "stdout",
     "output_type": "stream",
     "text": [
      "              precision    recall  f1-score   support\n",
      "\n",
      "  COLLECTION       0.23      0.33      0.27        15\n",
      "     PAIDOFF       0.79      0.69      0.74        55\n",
      "\n",
      "    accuracy                           0.61        70\n",
      "   macro avg       0.51      0.51      0.50        70\n",
      "weighted avg       0.67      0.61      0.64        70\n",
      "\n"
     ]
    }
   ],
   "source": [
    "print (classification_report(y_test, yknn))"
   ]
  },
  {
   "cell_type": "code",
   "execution_count": 105,
   "id": "8595ffd3",
   "metadata": {},
   "outputs": [],
   "source": [
    "from sklearn import metrics\n"
   ]
  },
  {
   "cell_type": "code",
   "execution_count": 106,
   "id": "0d1119cf",
   "metadata": {},
   "outputs": [
    {
     "data": {
      "text/plain": [
       "0.6142857142857143"
      ]
     },
     "execution_count": 106,
     "metadata": {},
     "output_type": "execute_result"
    }
   ],
   "source": [
    "metrics.accuracy_score(y_test,yknn)"
   ]
  },
  {
   "cell_type": "markdown",
   "id": "8cca7f98",
   "metadata": {},
   "source": [
    "# decision tree classfication"
   ]
  },
  {
   "cell_type": "code",
   "execution_count": 59,
   "id": "4f75a411",
   "metadata": {},
   "outputs": [],
   "source": [
    "from sklearn.tree import DecisionTreeClassifier\n",
    "import sklearn.tree as tree"
   ]
  },
  {
   "cell_type": "code",
   "execution_count": 60,
   "id": "cac95ac9",
   "metadata": {},
   "outputs": [
    {
     "data": {
      "text/plain": [
       "DecisionTreeClassifier(criterion='entropy', max_depth=4)"
      ]
     },
     "execution_count": 60,
     "metadata": {},
     "output_type": "execute_result"
    }
   ],
   "source": [
    "drugTree = DecisionTreeClassifier(criterion=\"entropy\", max_depth = 4)\n",
    "\n",
    "drugTree "
   ]
  },
  {
   "cell_type": "code",
   "execution_count": 63,
   "id": "a66d17bf",
   "metadata": {},
   "outputs": [
    {
     "data": {
      "text/plain": [
       "DecisionTreeClassifier(criterion='entropy', max_depth=4)"
      ]
     },
     "execution_count": 63,
     "metadata": {},
     "output_type": "execute_result"
    }
   ],
   "source": [
    "drugTree.fit(X_train,y_train)"
   ]
  },
  {
   "cell_type": "code",
   "execution_count": 64,
   "id": "a49d5389",
   "metadata": {},
   "outputs": [],
   "source": [
    "drugpred = drugTree.predict(x_test)"
   ]
  },
  {
   "cell_type": "code",
   "execution_count": 65,
   "id": "6236bf2c",
   "metadata": {},
   "outputs": [
    {
     "data": {
      "text/plain": [
       "array(['PAIDOFF', 'PAIDOFF', 'PAIDOFF', 'PAIDOFF', 'PAIDOFF'],\n",
       "      dtype=object)"
      ]
     },
     "execution_count": 65,
     "metadata": {},
     "output_type": "execute_result"
    }
   ],
   "source": [
    "drugpred[0:5]"
   ]
  },
  {
   "cell_type": "code",
   "execution_count": 66,
   "id": "272b60ef",
   "metadata": {},
   "outputs": [
    {
     "data": {
      "text/plain": [
       "63     PAIDOFF\n",
       "34     PAIDOFF\n",
       "186    PAIDOFF\n",
       "146    PAIDOFF\n",
       "130    PAIDOFF\n",
       "Name: loan_status, dtype: object"
      ]
     },
     "execution_count": 66,
     "metadata": {},
     "output_type": "execute_result"
    }
   ],
   "source": [
    "y_test[0:5]"
   ]
  },
  {
   "cell_type": "markdown",
   "id": "578a4134",
   "metadata": {},
   "source": [
    "**now for accuracy**"
   ]
  },
  {
   "cell_type": "code",
   "execution_count": 67,
   "id": "0c38eca5",
   "metadata": {},
   "outputs": [
    {
     "name": "stdout",
     "output_type": "stream",
     "text": [
      "              precision    recall  f1-score   support\n",
      "\n",
      "  COLLECTION       0.00      0.00      0.00        15\n",
      "     PAIDOFF       0.79      1.00      0.88        55\n",
      "\n",
      "    accuracy                           0.79        70\n",
      "   macro avg       0.39      0.50      0.44        70\n",
      "weighted avg       0.62      0.79      0.69        70\n",
      "\n"
     ]
    },
    {
     "name": "stderr",
     "output_type": "stream",
     "text": [
      "C:\\Users\\ahsan\\Anaconda3\\lib\\site-packages\\sklearn\\metrics\\_classification.py:1318: UndefinedMetricWarning: Precision and F-score are ill-defined and being set to 0.0 in labels with no predicted samples. Use `zero_division` parameter to control this behavior.\n",
      "  _warn_prf(average, modifier, msg_start, len(result))\n",
      "C:\\Users\\ahsan\\Anaconda3\\lib\\site-packages\\sklearn\\metrics\\_classification.py:1318: UndefinedMetricWarning: Precision and F-score are ill-defined and being set to 0.0 in labels with no predicted samples. Use `zero_division` parameter to control this behavior.\n",
      "  _warn_prf(average, modifier, msg_start, len(result))\n",
      "C:\\Users\\ahsan\\Anaconda3\\lib\\site-packages\\sklearn\\metrics\\_classification.py:1318: UndefinedMetricWarning: Precision and F-score are ill-defined and being set to 0.0 in labels with no predicted samples. Use `zero_division` parameter to control this behavior.\n",
      "  _warn_prf(average, modifier, msg_start, len(result))\n"
     ]
    }
   ],
   "source": [
    "print (classification_report(y_test,drugpred))"
   ]
  },
  {
   "cell_type": "code",
   "execution_count": 107,
   "id": "bdb26942",
   "metadata": {},
   "outputs": [
    {
     "data": {
      "text/plain": [
       "0.7857142857142857"
      ]
     },
     "execution_count": 107,
     "metadata": {},
     "output_type": "execute_result"
    }
   ],
   "source": [
    "metrics.accuracy_score(y_test,drugpred)"
   ]
  },
  {
   "cell_type": "markdown",
   "id": "b5c64382",
   "metadata": {},
   "source": [
    "# Logistic Regression with Python\n"
   ]
  },
  {
   "cell_type": "code",
   "execution_count": 108,
   "id": "82a4545f",
   "metadata": {},
   "outputs": [],
   "source": [
    "from sklearn.linear_model import LogisticRegression"
   ]
  },
  {
   "cell_type": "code",
   "execution_count": 109,
   "id": "a414b531",
   "metadata": {},
   "outputs": [
    {
     "data": {
      "text/plain": [
       "LogisticRegression(C=0.01, solver='liblinear')"
      ]
     },
     "execution_count": 109,
     "metadata": {},
     "output_type": "execute_result"
    }
   ],
   "source": [
    "LR = LogisticRegression(C=0.01, solver='liblinear').fit(X_train,y_train)\n",
    "LR"
   ]
  },
  {
   "cell_type": "code",
   "execution_count": 115,
   "id": "ed125a61",
   "metadata": {},
   "outputs": [
    {
     "data": {
      "text/plain": [
       "array(['PAIDOFF', 'PAIDOFF', 'PAIDOFF', 'PAIDOFF', 'PAIDOFF'],\n",
       "      dtype=object)"
      ]
     },
     "execution_count": 115,
     "metadata": {},
     "output_type": "execute_result"
    }
   ],
   "source": [
    "ylr = LR.predict(x_test)\n",
    "ylr[0:5]"
   ]
  },
  {
   "cell_type": "code",
   "execution_count": 111,
   "id": "a093e7db",
   "metadata": {},
   "outputs": [
    {
     "data": {
      "text/plain": [
       "63     PAIDOFF\n",
       "34     PAIDOFF\n",
       "186    PAIDOFF\n",
       "146    PAIDOFF\n",
       "130    PAIDOFF\n",
       "Name: loan_status, dtype: object"
      ]
     },
     "execution_count": 111,
     "metadata": {},
     "output_type": "execute_result"
    }
   ],
   "source": [
    "y_test[0:5]"
   ]
  },
  {
   "cell_type": "code",
   "execution_count": 112,
   "id": "776f1504",
   "metadata": {},
   "outputs": [
    {
     "data": {
      "text/plain": [
       "array([[0.43312501, 0.56687499],\n",
       "       [0.38304069, 0.61695931],\n",
       "       [0.39785039, 0.60214961],\n",
       "       [0.44899743, 0.55100257],\n",
       "       [0.42385469, 0.57614531]])"
      ]
     },
     "execution_count": 112,
     "metadata": {},
     "output_type": "execute_result"
    }
   ],
   "source": [
    "yhat_prob = LR.predict_proba(x_test)\n",
    "yhat_prob[0:5]"
   ]
  },
  {
   "cell_type": "markdown",
   "id": "da95cb84",
   "metadata": {},
   "source": [
    "<h2 id=\"evaluation\">Evaluation</h2>"
   ]
  },
  {
   "cell_type": "code",
   "execution_count": 116,
   "id": "39a8e25f",
   "metadata": {},
   "outputs": [
    {
     "name": "stdout",
     "output_type": "stream",
     "text": [
      "              precision    recall  f1-score   support\n",
      "\n",
      "  COLLECTION       0.00      0.00      0.00        15\n",
      "     PAIDOFF       0.79      1.00      0.88        55\n",
      "\n",
      "    accuracy                           0.79        70\n",
      "   macro avg       0.39      0.50      0.44        70\n",
      "weighted avg       0.62      0.79      0.69        70\n",
      "\n"
     ]
    },
    {
     "name": "stderr",
     "output_type": "stream",
     "text": [
      "C:\\Users\\ahsan\\Anaconda3\\lib\\site-packages\\sklearn\\metrics\\_classification.py:1318: UndefinedMetricWarning: Precision and F-score are ill-defined and being set to 0.0 in labels with no predicted samples. Use `zero_division` parameter to control this behavior.\n",
      "  _warn_prf(average, modifier, msg_start, len(result))\n",
      "C:\\Users\\ahsan\\Anaconda3\\lib\\site-packages\\sklearn\\metrics\\_classification.py:1318: UndefinedMetricWarning: Precision and F-score are ill-defined and being set to 0.0 in labels with no predicted samples. Use `zero_division` parameter to control this behavior.\n",
      "  _warn_prf(average, modifier, msg_start, len(result))\n",
      "C:\\Users\\ahsan\\Anaconda3\\lib\\site-packages\\sklearn\\metrics\\_classification.py:1318: UndefinedMetricWarning: Precision and F-score are ill-defined and being set to 0.0 in labels with no predicted samples. Use `zero_division` parameter to control this behavior.\n",
      "  _warn_prf(average, modifier, msg_start, len(result))\n"
     ]
    }
   ],
   "source": [
    "print (classification_report(y_test, ylr))"
   ]
  },
  {
   "cell_type": "code",
   "execution_count": 117,
   "id": "b7ab1579",
   "metadata": {},
   "outputs": [
    {
     "data": {
      "text/plain": [
       "0.7857142857142857"
      ]
     },
     "execution_count": 117,
     "metadata": {},
     "output_type": "execute_result"
    }
   ],
   "source": [
    "metrics.accuracy_score(y_test,ylr)"
   ]
  },
  {
   "cell_type": "markdown",
   "id": "4bdbc39a",
   "metadata": {},
   "source": [
    "# support vector machine(svm)"
   ]
  },
  {
   "cell_type": "code",
   "execution_count": 118,
   "id": "4782e1b7",
   "metadata": {},
   "outputs": [
    {
     "data": {
      "text/plain": [
       "SVC()"
      ]
     },
     "execution_count": 118,
     "metadata": {},
     "output_type": "execute_result"
    }
   ],
   "source": [
    "from sklearn import svm\n",
    "clf = svm.SVC(kernel='rbf')\n",
    "clf.fit(X_train, y_train) "
   ]
  },
  {
   "cell_type": "code",
   "execution_count": 119,
   "id": "6c884423",
   "metadata": {},
   "outputs": [],
   "source": [
    "ysvm = clf.predict(x_test)"
   ]
  },
  {
   "cell_type": "code",
   "execution_count": 120,
   "id": "9d0ed597",
   "metadata": {},
   "outputs": [
    {
     "data": {
      "text/plain": [
       "(array(['PAIDOFF', 'PAIDOFF', 'PAIDOFF', 'PAIDOFF', 'PAIDOFF'],\n",
       "       dtype=object),\n",
       " 63     PAIDOFF\n",
       " 34     PAIDOFF\n",
       " 186    PAIDOFF\n",
       " 146    PAIDOFF\n",
       " 130    PAIDOFF\n",
       " Name: loan_status, dtype: object)"
      ]
     },
     "execution_count": 120,
     "metadata": {},
     "output_type": "execute_result"
    }
   ],
   "source": [
    "ysvm[0:5],y_test[0:5]"
   ]
  },
  {
   "cell_type": "code",
   "execution_count": 121,
   "id": "c4aaa0f1",
   "metadata": {},
   "outputs": [
    {
     "data": {
      "text/plain": [
       "0.6914285714285714"
      ]
     },
     "execution_count": 121,
     "metadata": {},
     "output_type": "execute_result"
    }
   ],
   "source": [
    "from sklearn.metrics import f1_score\n",
    "f1_score(y_test, yhat, average='weighted') "
   ]
  },
  {
   "cell_type": "code",
   "execution_count": 122,
   "id": "33663207",
   "metadata": {},
   "outputs": [
    {
     "name": "stdout",
     "output_type": "stream",
     "text": [
      "              precision    recall  f1-score   support\n",
      "\n",
      "  COLLECTION       0.00      0.00      0.00        15\n",
      "     PAIDOFF       0.79      1.00      0.88        55\n",
      "\n",
      "    accuracy                           0.79        70\n",
      "   macro avg       0.39      0.50      0.44        70\n",
      "weighted avg       0.62      0.79      0.69        70\n",
      "\n"
     ]
    },
    {
     "name": "stderr",
     "output_type": "stream",
     "text": [
      "C:\\Users\\ahsan\\Anaconda3\\lib\\site-packages\\sklearn\\metrics\\_classification.py:1318: UndefinedMetricWarning: Precision and F-score are ill-defined and being set to 0.0 in labels with no predicted samples. Use `zero_division` parameter to control this behavior.\n",
      "  _warn_prf(average, modifier, msg_start, len(result))\n",
      "C:\\Users\\ahsan\\Anaconda3\\lib\\site-packages\\sklearn\\metrics\\_classification.py:1318: UndefinedMetricWarning: Precision and F-score are ill-defined and being set to 0.0 in labels with no predicted samples. Use `zero_division` parameter to control this behavior.\n",
      "  _warn_prf(average, modifier, msg_start, len(result))\n",
      "C:\\Users\\ahsan\\Anaconda3\\lib\\site-packages\\sklearn\\metrics\\_classification.py:1318: UndefinedMetricWarning: Precision and F-score are ill-defined and being set to 0.0 in labels with no predicted samples. Use `zero_division` parameter to control this behavior.\n",
      "  _warn_prf(average, modifier, msg_start, len(result))\n"
     ]
    }
   ],
   "source": [
    "print (classification_report(y_test, ysvm))"
   ]
  },
  {
   "cell_type": "code",
   "execution_count": 123,
   "id": "25c79ec4",
   "metadata": {},
   "outputs": [
    {
     "data": {
      "text/plain": [
       "0.7857142857142857"
      ]
     },
     "execution_count": 123,
     "metadata": {},
     "output_type": "execute_result"
    }
   ],
   "source": [
    "metrics.accuracy_score(y_test,ysvm)"
   ]
  },
  {
   "cell_type": "markdown",
   "id": "cdb1bc3d",
   "metadata": {},
   "source": [
    "## Note: as we can see from the accuracy except KNN neighbours all the classification techniques like Decision tree classification, Logistic Regression and Support vector machine are the best classifier."
   ]
  },
  {
   "cell_type": "code",
   "execution_count": null,
   "id": "d1c69453",
   "metadata": {},
   "outputs": [],
   "source": []
  }
 ],
 "metadata": {
  "kernelspec": {
   "display_name": "Python 3 (ipykernel)",
   "language": "python",
   "name": "python3"
  },
  "language_info": {
   "codemirror_mode": {
    "name": "ipython",
    "version": 3
   },
   "file_extension": ".py",
   "mimetype": "text/x-python",
   "name": "python",
   "nbconvert_exporter": "python",
   "pygments_lexer": "ipython3",
   "version": "3.9.12"
  }
 },
 "nbformat": 4,
 "nbformat_minor": 5
}
